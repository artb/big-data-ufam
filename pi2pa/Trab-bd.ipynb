{
 "cells": [
  {
   "cell_type": "code",
   "execution_count": null,
   "metadata": {},
   "outputs": [],
   "source": [
    "import re, string\n",
    "from pyspark import SparkContext, SparkConf"
   ]
  },
  {
   "cell_type": "code",
   "execution_count": null,
   "metadata": {},
   "outputs": [],
   "source": [
    "conf = SparkConf().setAppName(\"TP2 - BD2\")\n",
    "sc = SparkContext(conf=conf)\n",
    "sc._jsc.hadoopConfiguration().set(\"textinputformat.record.delimiter\", \"\\n\\n\")"
   ]
  },
  {
   "cell_type": "code",
   "execution_count": null,
   "metadata": {},
   "outputs": [],
   "source": [
    "regex_id = re.compile(r'Id:(.*)(\\n(.)*)*Id:')"
   ]
  },
  {
   "cell_type": "code",
   "execution_count": null,
   "metadata": {},
   "outputs": [],
   "source": [
    "rdd_amazon = sc.textFile(\"./amazon-meta-pequeno.txt\")"
   ]
  },
  {
   "cell_type": "markdown",
   "metadata": {},
   "source": [
    "## Funções"
   ]
  },
  {
   "cell_type": "code",
   "execution_count": null,
   "metadata": {},
   "outputs": [],
   "source": [
    "def encode_and_get_Id(register):\n",
    "    converted_register = register.encode('utf-8')\n",
    "    aux = re.findall(\"Id:   \\d*\", converted_register)\n",
    "    if aux: \n",
    "        id = re.findall(\"\\d+\", aux[0])\n",
    "        if id:\n",
    "            id = int(id[0])\n",
    "            return id"
   ]
  },
  {
   "cell_type": "code",
   "execution_count": null,
   "metadata": {},
   "outputs": [],
   "source": [
    "def encode_and_get_ASIN(register):\n",
    "    converted_register = register.encode('utf-8')\n",
    "    aux = re.findall(\"ASIN: \\d*\", converted_register)\n",
    "    if aux: \n",
    "        id = re.findall(\"\\d+\", aux[0])\n",
    "        if id:\n",
    "            id = int(id[0])\n",
    "            return id"
   ]
  },
  {
   "cell_type": "code",
   "execution_count": null,
   "metadata": {},
   "outputs": [],
   "source": [
    "def get_reviews(product):\n",
    "    converted_product = product.encode('utf-8')\n",
    "    converted_product = converted_product.split('\\n')\n",
    "    reviews = []\n",
    "    for index, line in enumerate(converted_product):\n",
    "        if 'reviews' in line:\n",
    "            for review_line in converted_product[index + 1:]:\n",
    "                reviews.append(review_line)\n",
    "    return reviews"
   ]
  },
  {
   "cell_type": "code",
   "execution_count": null,
   "metadata": {},
   "outputs": [],
   "source": [
    "# ESTRUTURA: NAME - RATING - VOTES - HELPFUL\n",
    "def format_review(review):\n",
    "    return (review.split('rating: ')[0], int(review.split('rating: ')[1][0:1]), int(review.split('votes: ')[1][1:3]), int(review.split('helpful: ')[1][1:3]))"
   ]
  },
  {
   "cell_type": "code",
   "execution_count": null,
   "metadata": {},
   "outputs": [],
   "source": [
    "def get_salesrank(product):\n",
    "    converted_product = product.encode('utf-8')\n",
    "    converted_product = converted_product.split('\\n')\n",
    "    return int(converted_product[4].split('salesrank: ')[1])"
   ]
  },
  {
   "cell_type": "code",
   "execution_count": null,
   "metadata": {},
   "outputs": [],
   "source": [
    "def get_similars(product):\n",
    "    similars = []\n",
    "    converted_product = product.encode('utf-8')\n",
    "    converted_product = converted_product.split('\\n')\n",
    "    splitted_produts = converted_product[5].split('similar: ')[1]\n",
    "    splitted_produts = splitted_produts.split(' ')\n",
    "    quantity = int(splitted_produts[0])\n",
    "    for product in splitted_produts[1:]:\n",
    "        if product:\n",
    "            similars.append(product)\n",
    "    return similars"
   ]
  },
  {
   "cell_type": "code",
   "execution_count": null,
   "metadata": {},
   "outputs": [],
   "source": [
    "def return_greater_seller(product, sale_rank):\n",
    "    converted_product = product.encode('utf-8')\n",
    "    converted_product = converted_product.split('\\n')\n",
    "    product_sale_rank = int(converted_product[4].split('salesrank: ')[1])\n",
    "    if product_sale_rank > sale_rank:\n",
    "        return product"
   ]
  },
  {
   "cell_type": "markdown",
   "metadata": {},
   "source": [
    "### rdd_mapeado é um rdd com todos os elementos mapeados pelo seu ID, facilitando o retrive do registro"
   ]
  },
  {
   "cell_type": "code",
   "execution_count": null,
   "metadata": {},
   "outputs": [],
   "source": [
    "rdd_mapeado_ids = rdd_amazon.map(lambda x: (encode_and_get_Id(x), x))\n",
    "rdd_mapeado_asin = rdd_amazon.map(lambda x: (encode_and_get_ASIN(x), x))"
   ]
  },
  {
   "cell_type": "code",
   "execution_count": null,
   "metadata": {},
   "outputs": [],
   "source": [
    "#INSIRA AQUI O ID DO PRODUTO A SER BUSCADO\n",
    "id_produto_desejado = 33\n",
    "produto_procurado = rdd_mapeado_ids.lookup(id_produto_desejado)"
   ]
  },
  {
   "cell_type": "markdown",
   "metadata": {},
   "source": [
    "## A)"
   ]
  },
  {
   "cell_type": "markdown",
   "metadata": {},
   "source": [
    "Para essa parte foi feito primeiro uma extração das reviews que foram transformadas numa lista de estrutura:\n",
    "Name - Rating- Votes - Helpfull.\n",
    "Depois de extraidos, esses dados foram transformados em um RDD para poder aproveitarmos das funções do Spark, como no caso o TakeOrdered, que extrai os 5 melhores valores dependendo da situação pedida"
   ]
  },
  {
   "cell_type": "code",
   "execution_count": null,
   "metadata": {},
   "outputs": [],
   "source": [
    "reviews_list = get_reviews(produto_procurado[0])\n",
    "reviews_rdd = sc.parallelize(reviews_list)\n",
    "reviews_formated = reviews_rdd.map(format_review)"
   ]
  },
  {
   "cell_type": "code",
   "execution_count": null,
   "metadata": {},
   "outputs": [],
   "source": [
    "helpful_rating = reviews_formated.takeOrdered(5, lambda x: (-x[1],-x[3]))\n",
    "print(helpful_rating)"
   ]
  },
  {
   "cell_type": "code",
   "execution_count": null,
   "metadata": {},
   "outputs": [],
   "source": [
    "helpful_bad_rating = reviews_formated.takeOrdered(5, lambda x: (x[1],-x[3]))\n",
    "print(helpful_bad_rating)"
   ]
  },
  {
   "cell_type": "markdown",
   "metadata": {},
   "source": [
    "## B)"
   ]
  },
  {
   "cell_type": "markdown",
   "metadata": {},
   "source": [
    "Para essa atividade foi feito algo parecido com o quesito A, primeiro extraimos a posição de vendas do produto em analise, depois extraimos os ASINS dos produtos similares e geramos uma lista. Com essa lista gerada, fazemos um lookup para recuperarmos os registros e transformamos essa lista de registros em uma rdd. Uma vez transformada em um rdd podemos fazer um map para uma funcao que retorna apenas os produtos com salesrank maior que o objeto requisitado"
   ]
  },
  {
   "cell_type": "code",
   "execution_count": null,
   "metadata": {},
   "outputs": [],
   "source": [
    "product_salesrank = get_salesrank(produto_procurado[0])"
   ]
  },
  {
   "cell_type": "code",
   "execution_count": null,
   "metadata": {},
   "outputs": [],
   "source": [
    "similars = get_similars(produto_procurado[0])\n",
    "similars_asins = []\n",
    "for similar in similars:\n",
    "    print(similar)\n",
    "    s = rdd_mapeado_asin.lookup(similar)\n",
    "    similars_asins.append(s)\n",
    "print(similars_asins)"
   ]
  },
  {
   "cell_type": "code",
   "execution_count": null,
   "metadata": {},
   "outputs": [],
   "source": [
    "similars_rdd = sc.parallelize(similars_asins)"
   ]
  },
  {
   "cell_type": "code",
   "execution_count": null,
   "metadata": {},
   "outputs": [],
   "source": [
    "similars_best_salers = similars_rdd.map(lambda x: return_greater_seller(x,product_salesrank))    "
   ]
  },
  {
   "cell_type": "code",
   "execution_count": null,
   "metadata": {},
   "outputs": [],
   "source": [
    "similars_best_salers.collect()"
   ]
  }
 ],
 "metadata": {
  "kernelspec": {
   "display_name": "Python 2",
   "language": "python",
   "name": "python2"
  },
  "language_info": {
   "codemirror_mode": {
    "name": "ipython",
    "version": 2
   },
   "file_extension": ".py",
   "mimetype": "text/x-python",
   "name": "python",
   "nbconvert_exporter": "python",
   "pygments_lexer": "ipython2",
   "version": "2.7.13"
  }
 },
 "nbformat": 4,
 "nbformat_minor": 2
}
